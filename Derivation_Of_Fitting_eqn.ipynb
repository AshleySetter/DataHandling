{
 "cells": [
  {
   "cell_type": "markdown",
   "metadata": {},
   "source": [
    "For a particle in a harmonic potential with a damping rate due to the enviroment $\\Gamma$, a natural frequency $\\omega_0$ and a corresponding trap stiffness $k_0 = m\\omega_0^2$ with a mass $m$ and an external force acting on the particle $F_{th}$ the equation of motion for 1 degree of freedom is:\n",
    "\n",
    "$$ m\\ddot{x}(t) + m\\Gamma \\dot{x}(t) + k_0 x(t) = F_{th}(t)$$ \n",
    "\n",
    "replacing $k_0$ with $m\\omega^2$ we get\n",
    "\n",
    "$$ \\ddot{x}(t) + \\Gamma \\dot{x}(t) + \\omega_0^2 x(t) = \\dfrac{F_{th}(t)}{m}$$ \n",
    "\n",
    "If we then use the Fourier relationship\n",
    "\n",
    "$$ \\dfrac{d^n f(t)}{dt^n} = (i\\omega)^n \\tilde{f}(\\omega) $$\n",
    "\n",
    "Then the Fourier transform of the equation of motion is:\n",
    "\n",
    "$$ (i\\omega)^2 \\tilde{x}(\\omega) + \\Gamma_0(i\\omega)\\tilde{x}(\\omega) + \\omega_0^2 \\tilde{x}(\\omega) = \\dfrac{\\tilde{F_{th}}(\\omega)}{m} $$\n"
   ]
  },
  {
   "cell_type": "markdown",
   "metadata": {},
   "source": [
    "which is equal to:\n",
    "\n",
    "\n",
    "$$ -\\omega^2 \\tilde{x}(\\omega) + \\Gamma_0(i\\omega)\\tilde{x}(\\omega) + \\omega_0^2 \\tilde{x}(\\omega) = \\dfrac{\\tilde{F_{th}}(\\omega)}{m} $$"
   ]
  },
  {
   "cell_type": "markdown",
   "metadata": {},
   "source": [
    "Rearranging this for $\\tilde{x}(\\omega)$ we get:\n",
    "\n",
    "$$ \\tilde{x}(\\omega) = \\dfrac{1}{m} \\dfrac{\\tilde{F_{th}}(\\omega)}{\\omega_0^2-\\omega^2 + i(\\Gamma_0\\omega)} $$"
   ]
  },
  {
   "cell_type": "markdown",
   "metadata": {},
   "source": [
    "# Marko's Method"
   ]
  },
  {
   "cell_type": "markdown",
   "metadata": {},
   "source": [
    "The formula for the power spectral density (the Fourier transform of the autocorrelation function) is then \n",
    "\n",
    "$S_{xx}(\\omega) = \\int_{-\\infty}^{+\\infty} \\langle x(t)x(t+\\tau) \\rangle e^{i\\omega \\tau} d\\tau$ \n",
    "\n",
    "From https://journals.aps.org/rmp/pdf/10.1103/RevModPhys.86.1391 using the Wiener-Khinchin theorem.\n",
    "\n",
    "$$ S_{xx}(\\omega) = \\dfrac{1}{m^2}  \\dfrac{\\int_{-\\infty}^{+\\infty}\\langle \\tilde{F_{th}}(\\omega_1) \\tilde{F_{th}}(\\omega)\\rangle d\\omega_1 }{(\\omega_0^2-\\omega^2)^2 + (\\Gamma_0\\omega)^2} $$\n",
    "\n",
    "Using the result derived at the bottom of this notebook we find that \n",
    "$ \\int_{-\\infty}^{+\\infty} \\langle \\tilde{F_{th}}(\\omega_1) \\tilde{F_{th}}(\\omega)\\rangle d\\omega_1  = \\dfrac{1}{2}\\tilde{f}(-2\\omega) $ where $\\tilde{f}$ is the Fourier transform of the 2 point correlation function of the thermal noise $F_{th}$. Taking this to be constant is equivalent to assuming that the noise is Markovian i.e. that it is uncorrelated from time $t$ to time $t + \\tau$.\n",
    "\n",
    "This is the case because the reverse Fourier transform of constant $\\tilde{f}$ results in $f(s) = \\dfrac{1}{\\sqrt{2\\pi}}\\int{\\tilde{f}e^{-i\\omega s} d\\omega} = \\tilde{f}\\delta(s)$ which is the two-point correlation function in time for Markovian noise. That is to say, it is uncorrelated in time.\n",
    "\n",
    "therefore we get the result that $$ S_{xx}(\\omega) = \\dfrac{1}{2m^2}  \\dfrac{\\tilde{f}}{(\\omega_0^2-\\omega^2)^2 + (\\Gamma_0\\omega)^2} $$"
   ]
  },
  {
   "cell_type": "markdown",
   "metadata": {},
   "source": [
    "The Fourier transform of the thermal noise can be derived readily by realising that the integral of a power spectral density yields the positional variance of the oscillator, namely $\\langle x^2 \\rangle$ and using the assumtion above that the fft of the two-point correlation function is constant, as is valid for Markovian noise.\n",
    "\n",
    "Therefore \n",
    "\n",
    "$$ \\langle x^2 \\rangle = \\int_0^{\\infty} S_{xx}(\\omega) d\\omega $$\n",
    "\n",
    "$$ = \\int_{0}^{\\infty} S_{xx}(\\omega) d\\omega $$ \n",
    "\n",
    "$$ = \\dfrac{\\tilde{f}}{2m^2} \\int_{0}^{\\infty} \\dfrac{1}{(\\omega_0^2-\\omega^2)^2 + (\\Gamma_0\\omega)^2} d\\omega $$\n",
    "\n",
    "This integral can be calculated like so:\n",
    "\n",
    "-----------------------------------------------------------\n",
    "\n",
    "**Preliminaries**\n",
    "\n",
    "Using $a^2+b^2=(a+ib)(a-ib)$, we get\n",
    "$$\n",
    "\\begin{align}\n",
    "\\left(\\omega_0^2-\\omega^2\\right)^2+(\\Gamma_0\\omega)^2\n",
    "&=\\left(\\omega^2+i\\Gamma_0\\omega-\\omega_0^2\\right)\\left(\\omega^2-i\\Gamma_0\\omega-\\omega_0^2\\right)\n",
    "\\end{align}\n",
    "$$\n",
    "The roots for the two quadratics are\n",
    "$$\n",
    "\\omega=\\frac{\\pm i\\Gamma_0\\pm\\sqrt{4\\omega_0^2-\\Gamma_0^2}}2\n",
    "$$\n",
    "Thus, re-pairing the roots gives\n",
    "$$\n",
    "\\begin{align}\n",
    "&\\left(\\omega_0^2-\\omega^2\\right)^2+(\\Gamma_0\\omega)^2\\\\\n",
    "&=\\left(\\omega^2+\\omega\\sqrt{4\\omega_0^2-\\Gamma_0^2}+\\omega_0^2\\right)\\left(\\omega^2-\\omega\\sqrt{4\\omega_0^2-\\Gamma_0^2}+\\omega_0^2\\right)\\\\\n",
    "&=\\left[\\left(\\omega+\\sqrt{\\omega_0^2-\\tfrac14\\Gamma_0^2}\\right)^2+\\tfrac14\\Gamma_0^2\\right]\\left[\\left(\\omega-\\sqrt{\\omega_0^2-\\tfrac14\\Gamma_0^2}\\right)^2+\\tfrac14\\Gamma_0^2\\right]\n",
    "\\end{align}\n",
    "$$\n",
    "Then [Partial Fractions](https://en.wikipedia.org/wiki/Partial_fraction_decomposition) gives\n",
    "$$\n",
    "\\begin{align}\n",
    "&\\frac1{\\left(\\omega_0^2-\\omega^2\\right)^2+(\\Gamma_0\\omega)^2}\\\\[12pt]\n",
    "&=\\frac1{2\\omega_0^2}\\left[\\frac{1+\\frac\\omega{\\sqrt{4\\omega_0^2-\\Gamma_0^2}}}{\\left(\\omega+\\sqrt{\\omega_0^2-\\tfrac14\\Gamma_0^2}\\right)^2+\\tfrac14\\Gamma_0^2}\n",
    "+\\frac{1-\\frac\\omega{\\sqrt{4\\omega_0^2-\\Gamma_0^2}}}{\\left(\\omega-\\sqrt{\\omega_0^2-\\tfrac14\\Gamma_0^2}\\right)^2+\\tfrac14\\Gamma_0^2}\\right]\n",
    "\\end{align}\n",
    "$$\n",
    "***\n",
    "**Integration**\n",
    "\n",
    "Due to the evenness of the integrand,\n",
    "$$\n",
    "\\begin{align}\n",
    "&\\int_0^\\infty\\frac1{\\left(\\omega_0^2-\\omega^2\\right)^2+(\\Gamma_0\\omega)^2}\\,\\mathrm{d}\\omega\\\\[6pt]\n",
    "&=\\frac12\\int_{-\\infty}^\\infty\\frac1{\\left(\\omega_0^2-\\omega^2\\right)^2+(\\Gamma_0\\omega)^2}\\,\\mathrm{d}\\omega\\\\\n",
    "&=\\frac1{4\\omega_0^2}\\int_{-\\infty}^\\infty\\left[{\\small\\frac{1+\\frac\\omega{\\sqrt{4\\omega_0^2-\\Gamma_0^2}}}{\\left(\\omega+\\sqrt{\\omega_0^2-\\tfrac14\\Gamma_0^2}\\right)^2+\\tfrac14\\Gamma_0^2}\n",
    "+\\frac{1-\\frac\\omega{\\sqrt{4\\omega_0^2-\\Gamma_0^2}}}{\\left(\\omega-\\sqrt{\\omega_0^2-\\tfrac14\\Gamma_0^2}\\right)^2+\\tfrac14\\Gamma_0^2}}\\right]\\,\\mathrm{d}\\omega\\\\\n",
    "&=\\frac1{4\\omega_0^2}\\int_{-\\infty}^\\infty\\left[{\\small\\frac{\\frac12+\\frac\\omega{\\sqrt{4\\omega_0^2-\\Gamma_0^2}}}{\\omega^2+\\tfrac14\\Gamma_0^2}\n",
    "+\\frac{\\frac12-\\frac\\omega{\\sqrt{4\\omega_0^2-\\Gamma_0^2}}}{\\omega^2+\\tfrac14\\Gamma_0^2}}\\right]\\,\\mathrm{d}\\omega\\\\[6pt]\n",
    "&=\\frac1{4\\omega_0^2}\\int_{-\\infty}^\\infty\\frac{\\mathrm{d}\\omega}{\\omega^2+\\tfrac14\\Gamma_0^2}\\\\[12pt]\n",
    "&=\\frac\\pi{2\\omega_0^2\\Gamma_0}\n",
    "\\end{align}\n",
    "$$\n",
    "\n",
    "---------------------------------------------------------------\n",
    "\n",
    "This results in the following form for $ \\langle x^2 \\rangle $\n",
    "\n",
    "\n",
    "$$ \\langle x^2 \\rangle = \\dfrac{\\tilde{f}}{4m^2} \\dfrac{\\pi}{\\omega_0^2\\Gamma_0} $$\n"
   ]
  },
  {
   "cell_type": "markdown",
   "metadata": {},
   "source": [
    "Assuming that the system is in thermal equilibrium and the equipartition theorem applies to this system.\n",
    "\n",
    "From the equipartition theorem $$ \\dfrac{1}{2}k_BT_{c.m.} = \\dfrac{1}{2}m\\omega_0^2 \\langle x^2 \\rangle $$ we get:\n",
    "\n",
    "$$ \\dfrac{1}{2}k_BT_{c.m.} = \\dfrac{1}{2}m\\omega_0^2 \\dfrac{\\tilde{f}}{4m^2} \\dfrac{\\pi}{\\omega_0^2\\Gamma_0} = \\dfrac{1}{2} \\dfrac{\\tilde{f}}{4m} \\dfrac{\\pi}{\\Gamma_0} $$"
   ]
  },
  {
   "cell_type": "markdown",
   "metadata": {},
   "source": [
    "$$ \\tilde{f} = \\dfrac{4m k_B T_{c.m.} \\Gamma_0}{\\pi} $$"
   ]
  },
  {
   "cell_type": "markdown",
   "metadata": {},
   "source": [
    "$$ S_{xx}(\\omega) = \\dfrac{4 k_B T_{c.m.}}{\\pi m} \\dfrac{\\Gamma_0}{(\\omega_0^2-\\omega^2)^2 + (\\Gamma_0\\omega)^2} $$"
   ]
  },
  {
   "cell_type": "markdown",
   "metadata": {},
   "source": [
    "------------------------------------------"
   ]
  },
  {
   "cell_type": "markdown",
   "metadata": {},
   "source": [
    "# Giesler's Method"
   ]
  },
  {
   "cell_type": "markdown",
   "metadata": {},
   "source": [
    "$ \\langle F_{th}(t)F+{th}(t′) \\rangle = 2 m \\Gamma_0 k_B T_0 \\delta(t−t′) $ according to the fluctuation-dissipation theorem. Cite pg 46 of *Dynamics of Optically levitated Nanoparticles - Jan Giesler*"
   ]
  },
  {
   "cell_type": "markdown",
   "metadata": {},
   "source": [
    "From $$ \\tilde{x}(\\omega) = \\dfrac{1}{m} \\dfrac{\\tilde{F_{th}}(\\omega)}{\\omega_0^2-\\omega^2 + i(\\Gamma_0\\omega)} $$\n",
    "\n",
    "We get that the PSD takes the form:\n",
    "\n",
    "$$ \\langle \\tilde{x}(\\omega)^2 \\rangle = \\dfrac{1}{2m^2}  \\dfrac{\\tilde{F_th}}{(\\omega_0^2-\\omega^2)^2 + (\\Gamma_0\\omega)^2} $$"
   ]
  },
  {
   "cell_type": "code",
   "execution_count": null,
   "metadata": {
    "collapsed": true
   },
   "outputs": [],
   "source": []
  },
  {
   "cell_type": "code",
   "execution_count": null,
   "metadata": {
    "collapsed": true
   },
   "outputs": [],
   "source": []
  }
 ],
 "metadata": {
  "kernelspec": {
   "display_name": "Python 3",
   "language": "python",
   "name": "python3"
  },
  "language_info": {
   "codemirror_mode": {
    "name": "ipython",
    "version": 3
   },
   "file_extension": ".py",
   "mimetype": "text/x-python",
   "name": "python",
   "nbconvert_exporter": "python",
   "pygments_lexer": "ipython3",
   "version": "3.5.2"
  }
 },
 "nbformat": 4,
 "nbformat_minor": 0
}
