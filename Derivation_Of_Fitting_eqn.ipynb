{
 "cells": [
  {
   "cell_type": "markdown",
   "metadata": {},
   "source": [
    "For a particle in a harmonic potential with a damping rate due to the enviroment $\\Gamma$, a natural frequency $\\omega_0$ and a corresponding trap stiffness $k_0 = m\\omega_0^2$ with a mass $m$ and an external force acting on the particle $F_{th}$ the equation of motion for 1 degree of freedom is:\n",
    "\n",
    "$$ m\\ddot{x}(t) + m\\Gamma \\dot{x}(t) + k_0 x(t) = F_{th}(t)$$ \n",
    "\n",
    "replacing $k_0$ with $m\\omega^2$ we get\n",
    "\n",
    "$$ \\ddot{x}(t) + \\Gamma \\dot{x}(t) + \\omega_0^2 x(t) = \\dfrac{F_{th}(t)}{m}$$ \n",
    "\n",
    "If we then use the Fourier relationship\n",
    "\n",
    "$$ \\dfrac{d^n f(t)}{dt^n} = (i\\omega)^n \\tilde{f}(\\omega) $$\n",
    "\n",
    "Then the Fourier transform of the equation of motion is:\n",
    "\n",
    "$$ (i\\omega)^2 \\tilde{x}(\\omega) + \\Gamma_0(i\\omega)\\tilde{x}(\\omega) + \\omega_0^2 \\tilde{x}(\\omega) = \\dfrac{\\tilde{F_{th}}(\\omega)}{m} $$\n"
   ]
  },
  {
   "cell_type": "markdown",
   "metadata": {},
   "source": [
    "which is equal to:\n",
    "\n",
    "\n",
    "$$ -\\omega^2 \\tilde{x}(\\omega) + \\Gamma_0(i\\omega)\\tilde{x}(\\omega) + \\omega_0^2 \\tilde{x}(\\omega) = \\dfrac{\\tilde{F_{th}}(\\omega)}{m} $$"
   ]
  },
  {
   "cell_type": "markdown",
   "metadata": {},
   "source": [
    "Rearranging this for $\\tilde{x}(\\omega)$ we get:\n",
    "\n",
    "$$ \\tilde{x}(\\omega) = \\dfrac{1}{m} \\dfrac{\\tilde{F_{th}}(\\omega)}{\\omega_0^2-\\omega^2 + i(\\Gamma_0\\omega)} $$"
   ]
  },
  {
   "cell_type": "markdown",
   "metadata": {},
   "source": [
    "# Derivation of the form of the PSD"
   ]
  },
  {
   "cell_type": "markdown",
   "metadata": {},
   "source": [
    "The formula for the power spectral density (the Fourier transform of the autocorrelation function) is:\n",
    "\n",
    "$$ S_{xx}(\\omega) = \\int_{-\\infty}^{+\\infty} \\langle x(t) x(t+\\tau)^* \\rangle e^{-i\\omega \\tau} d\\tau $$ \n",
    "\n",
    "From https://journals.aps.org/rmp/pdf/10.1103/RevModPhys.86.1391 using the Wiener-Khinchin theorem."
   ]
  },
  {
   "cell_type": "markdown",
   "metadata": {},
   "source": [
    "And the formula for the reverse Fourier transform is \n",
    "\n",
    "$$ x(t) = \\dfrac{1}{\\sqrt{2\\pi}} \\int_{-\\infty}^{+\\infty} \\tilde{x}(\\omega)e^{+i\\omega t} d\\omega $$"
   ]
  },
  {
   "cell_type": "markdown",
   "metadata": {},
   "source": [
    "$$ S_{xx}(\\omega) = \\int_{-\\infty}^{\\infty} d\\tau e^{-i\\omega \\tau} \\langle \\dfrac{1}{\\sqrt{2\\pi}} \\int_{-\\infty}^{\\infty} d\\omega_1 \\tilde{x}(\\omega_1)e^{+i\\omega_1 t} \\dfrac{1}{\\sqrt{2\\pi}} \\int_{-\\infty}^{\\infty} d\\omega_2 \\tilde{x}(\\omega_2)^*e^{+i\\omega_2 (t + \\tau)} \\rangle $$"
   ]
  },
  {
   "cell_type": "markdown",
   "metadata": {},
   "source": [
    "$$ S_{xx}(\\omega) = \\dfrac{1}{2\\pi} \\int_{-\\infty}^{\\infty} d\\tau e^{-i\\omega \\tau} \\langle \\int_{-\\infty}^{\\infty} d\\omega_1 \\dfrac{1}{m} \\dfrac{\\tilde{F_{th}}(\\omega_1)}{\\omega_0^2-\\omega_1^2 + i(\\Gamma_0\\omega_1)} e^{+i\\omega_1 t} \\int_{-\\infty}^{\\infty} d\\omega_2 \\dfrac{1}{m} \\dfrac{\\tilde{F_{th}}(\\omega_2)}{\\omega_0^2-\\omega_2^2 - i(\\Gamma_0\\omega_2)} e^{+i\\omega_2 (t+ \\tau)} \\rangle $$"
   ]
  },
  {
   "cell_type": "markdown",
   "metadata": {},
   "source": [
    "$$ S_{xx}(\\omega) = \\dfrac{1}{2\\pi m^2} \\int_{-\\infty}^{\\infty} d\\tau \\int_{-\\infty}^{\\infty} d\\omega_1 \\int_{-\\infty}^{\\infty} d\\omega_2  e^{-i\\omega \\tau} e^{+i\\omega_2 t} e^{+i\\omega_2 \\tau)} e^{+i\\omega_1 t} \\dfrac{\\langle \\tilde{F_{th}}(\\omega_1) \\tilde{F_{th}}(\\omega_2) \\rangle}{(\\omega_0^2-\\omega_1^2 + i(\\Gamma_0\\omega_1))\\cdot(\\omega_0^2-\\omega_2^2 - i(\\Gamma_0\\omega_2))}  $$"
   ]
  },
  {
   "cell_type": "markdown",
   "metadata": {},
   "source": [
    "Now using $\\dfrac{1}{2\\pi} \\int_{-\\infty}^{\\infty} e^{-i\\omega\\tau} e^{i\\omega_2\\tau} d\\tau = \\dfrac{1}{2\\pi} \\int_{-\\infty}^{\\infty} e^{i(\\omega_2-\\omega)\\tau} d\\tau = \\delta(\\omega_2 - \\omega)$"
   ]
  },
  {
   "cell_type": "markdown",
   "metadata": {},
   "source": [
    "$$ S_{xx}(\\omega) = \\dfrac{1}{m^2} \\int_{-\\infty}^{\\infty} d\\omega_1 \\int_{-\\infty}^{\\infty} d\\omega_2 e^{+i\\omega_2 t} e^{+i\\omega_1 t} \\dfrac{\\langle \\tilde{F_{th}}(\\omega_1) \\tilde{F_{th}}(\\omega_2) \\rangle}{(\\omega_0^2-\\omega_1^2 + i(\\Gamma_0\\omega_1))\\cdot(\\omega_0^2-\\omega_2^2 - i(\\Gamma_0\\omega_2))} \\delta(\\omega_2 - \\omega) $$"
   ]
  },
  {
   "cell_type": "markdown",
   "metadata": {},
   "source": [
    "$$ S_{xx}(\\omega) = \\dfrac{1}{m^2} \\int_{-\\infty}^{\\infty} d\\omega_1 e^{+i\\omega t} e^{+i\\omega_1 t} \\dfrac{\\langle \\tilde{F_{th}}(\\omega_1) \\tilde{F_{th}}(\\omega) \\rangle}{(\\omega_0^2-\\omega_1^2 + i(\\Gamma_0\\omega_1))\\cdot(\\omega_0^2-\\omega^2 - i(\\Gamma_0\\omega))}  $$"
   ]
  },
  {
   "cell_type": "markdown",
   "metadata": {},
   "source": [
    "If we now use the result, which is derived below, that:\n",
    "\n",
    "$$ \\langle \\tilde{F_{th}}(\\omega_1) \\tilde{F_{th}}(\\omega) \\rangle = \\delta(\\omega_1 + \\omega) \\dfrac{1}{2} \\tilde{f}(\\omega_1 - \\omega) $$\n",
    "\n",
    "Where $\\tilde{f}$ is the Fourier transform of the 2 point correlation function of the thermal noise $F_{th}$."
   ]
  },
  {
   "cell_type": "markdown",
   "metadata": {},
   "source": [
    "We get:\n",
    "\n",
    "$$ S_{xx}(\\omega) = \\dfrac{1}{m^2} \\int_{-\\infty}^{\\infty} d\\omega_1 e^{+i(\\omega + \\omega_1) t} \\dfrac{\\delta(\\omega_1 + \\omega) \\dfrac{1}{2} \\tilde{f}(\\omega_1 - \\omega)}{(\\omega_0^2-\\omega_1^2 + i(\\Gamma_0\\omega_1))\\cdot(\\omega_0^2-\\omega^2 - i(\\Gamma_0\\omega))}  $$"
   ]
  },
  {
   "cell_type": "markdown",
   "metadata": {},
   "source": [
    "Using this result we get:\n",
    "\n",
    "$$ S_{xx}(\\omega) = \\dfrac{1}{m^2} \\dfrac{\\dfrac{1}{2} \\tilde{f}(-2\\omega)}{(\\omega_0^2-\\omega^2 - i(\\Gamma_0\\omega))\\cdot(\\omega_0^2-\\omega^2 + i(\\Gamma_0\\omega))}  $$"
   ]
  },
  {
   "cell_type": "markdown",
   "metadata": {},
   "source": [
    "which when expanded comes to:\n",
    "\n",
    "$$ S_{xx}(\\omega) = \\dfrac{1}{2m^2} \\dfrac{\\tilde{f}(-2\\omega)}{\\omega_0^4 - 2\\omega_0^2 \\omega^2 + \\omega^4 + \\Gamma_0^2\\omega^2} = \\dfrac{1}{2m^2} \\dfrac{\\tilde{f}(-2\\omega)}{(\\omega_0^2 - \\omega^2)^2 + (\\Gamma_0\\omega)^2}  $$"
   ]
  },
  {
   "cell_type": "markdown",
   "metadata": {},
   "source": [
    "$\\tilde{f}$, as mentioned earilier, is the Fourier transform of the 2 point correlation function of the thermal noise $F_{th}$. Taking this to be constant is equivalent to assuming that the noise is Markovian i.e. that it is uncorrelated from time $t$ to time $t + \\tau$.\n",
    "\n",
    "This is the case because the reverse Fourier transform of constant $\\tilde{f}$ results in $f(s) = \\dfrac{1}{\\sqrt{2\\pi}}\\int{\\tilde{f}e^{-i\\omega s} d\\omega} = \\tilde{f}\\delta(s)$ which is the two-point correlation function in time for Markovian noise. That is to say, it is uncorrelated in time.\n",
    "\n",
    "therefore we get the result that $$ S_{xx}(\\omega) = \\dfrac{1}{2m^2}  \\dfrac{\\tilde{f}}{(\\omega_0^2-\\omega^2)^2 + (\\Gamma_0\\omega)^2} $$"
   ]
  },
  {
   "cell_type": "markdown",
   "metadata": {},
   "source": [
    "# Derivation of the constant $\\tilde{f}$"
   ]
  },
  {
   "cell_type": "markdown",
   "metadata": {},
   "source": [
    "The form of the constant $\\tilde{f}$ can be derived readily by realising that the integral of a power spectral density yields the positional variance of the oscillator, namely $\\langle x^2 \\rangle$.\n",
    "\n",
    "Therefore \n",
    "\n",
    "$$ \\langle x^2 \\rangle = \\int_0^{\\infty} S_{xx}(\\omega) d\\omega $$\n",
    "\n",
    "$$ = \\int_{0}^{\\infty} S_{xx}(\\omega) d\\omega $$ \n",
    "\n",
    "$$ = \\dfrac{\\tilde{f}}{2m^2} \\int_{0}^{\\infty} \\dfrac{1}{(\\omega_0^2-\\omega^2)^2 + (\\Gamma_0\\omega)^2} d\\omega $$\n",
    "\n",
    "This integral can be calculated like so:\n",
    "\n",
    "-----------------------------------------------------------\n",
    "\n",
    "**Preliminaries**\n",
    "\n",
    "Using $a^2+b^2=(a+ib)(a-ib)$, we get\n",
    "$$\n",
    "\\begin{align}\n",
    "\\left(\\omega_0^2-\\omega^2\\right)^2+(\\Gamma_0\\omega)^2\n",
    "&=\\left(\\omega^2+i\\Gamma_0\\omega-\\omega_0^2\\right)\\left(\\omega^2-i\\Gamma_0\\omega-\\omega_0^2\\right)\n",
    "\\end{align}\n",
    "$$\n",
    "The roots for the two quadratics are\n",
    "$$\n",
    "\\omega=\\frac{\\pm i\\Gamma_0\\pm\\sqrt{4\\omega_0^2-\\Gamma_0^2}}2\n",
    "$$\n",
    "Thus, re-pairing the roots gives\n",
    "$$\n",
    "\\begin{align}\n",
    "&\\left(\\omega_0^2-\\omega^2\\right)^2+(\\Gamma_0\\omega)^2\\\\\n",
    "&=\\left(\\omega^2+\\omega\\sqrt{4\\omega_0^2-\\Gamma_0^2}+\\omega_0^2\\right)\\left(\\omega^2-\\omega\\sqrt{4\\omega_0^2-\\Gamma_0^2}+\\omega_0^2\\right)\\\\\n",
    "&=\\left[\\left(\\omega+\\sqrt{\\omega_0^2-\\tfrac14\\Gamma_0^2}\\right)^2+\\tfrac14\\Gamma_0^2\\right]\\left[\\left(\\omega-\\sqrt{\\omega_0^2-\\tfrac14\\Gamma_0^2}\\right)^2+\\tfrac14\\Gamma_0^2\\right]\n",
    "\\end{align}\n",
    "$$\n",
    "Then [Partial Fractions](https://en.wikipedia.org/wiki/Partial_fraction_decomposition) gives\n",
    "$$\n",
    "\\begin{align}\n",
    "&\\frac1{\\left(\\omega_0^2-\\omega^2\\right)^2+(\\Gamma_0\\omega)^2}\\\\[12pt]\n",
    "&=\\frac1{2\\omega_0^2}\\left[\\frac{1+\\frac\\omega{\\sqrt{4\\omega_0^2-\\Gamma_0^2}}}{\\left(\\omega+\\sqrt{\\omega_0^2-\\tfrac14\\Gamma_0^2}\\right)^2+\\tfrac14\\Gamma_0^2}\n",
    "+\\frac{1-\\frac\\omega{\\sqrt{4\\omega_0^2-\\Gamma_0^2}}}{\\left(\\omega-\\sqrt{\\omega_0^2-\\tfrac14\\Gamma_0^2}\\right)^2+\\tfrac14\\Gamma_0^2}\\right]\n",
    "\\end{align}\n",
    "$$\n",
    "***\n",
    "**Integration**\n",
    "\n",
    "Due to the evenness of the integrand,\n",
    "$$\n",
    "\\begin{align}\n",
    "&\\int_0^\\infty\\frac1{\\left(\\omega_0^2-\\omega^2\\right)^2+(\\Gamma_0\\omega)^2}\\,\\mathrm{d}\\omega\\\\[6pt]\n",
    "&=\\frac12\\int_{-\\infty}^\\infty\\frac1{\\left(\\omega_0^2-\\omega^2\\right)^2+(\\Gamma_0\\omega)^2}\\,\\mathrm{d}\\omega\\\\\n",
    "&=\\frac1{4\\omega_0^2}\\int_{-\\infty}^\\infty\\left[{\\small\\frac{1+\\frac\\omega{\\sqrt{4\\omega_0^2-\\Gamma_0^2}}}{\\left(\\omega+\\sqrt{\\omega_0^2-\\tfrac14\\Gamma_0^2}\\right)^2+\\tfrac14\\Gamma_0^2}\n",
    "+\\frac{1-\\frac\\omega{\\sqrt{4\\omega_0^2-\\Gamma_0^2}}}{\\left(\\omega-\\sqrt{\\omega_0^2-\\tfrac14\\Gamma_0^2}\\right)^2+\\tfrac14\\Gamma_0^2}}\\right]\\,\\mathrm{d}\\omega\\\\\n",
    "&=\\frac1{4\\omega_0^2}\\int_{-\\infty}^\\infty\\left[{\\small\\frac{\\frac12+\\frac\\omega{\\sqrt{4\\omega_0^2-\\Gamma_0^2}}}{\\omega^2+\\tfrac14\\Gamma_0^2}\n",
    "+\\frac{\\frac12-\\frac\\omega{\\sqrt{4\\omega_0^2-\\Gamma_0^2}}}{\\omega^2+\\tfrac14\\Gamma_0^2}}\\right]\\,\\mathrm{d}\\omega\\\\[6pt]\n",
    "&=\\frac1{4\\omega_0^2}\\int_{-\\infty}^\\infty\\frac{\\mathrm{d}\\omega}{\\omega^2+\\tfrac14\\Gamma_0^2}\\\\[12pt]\n",
    "&=\\frac\\pi{2\\omega_0^2\\Gamma_0}\n",
    "\\end{align}\n",
    "$$\n",
    "\n",
    "---------------------------------------------------------------\n",
    "\n",
    "This results in the following form for $ \\langle x^2 \\rangle $\n",
    "\n",
    "\n",
    "$$ \\langle x^2 \\rangle = \\dfrac{\\tilde{f}}{2m^2} \\dfrac{\\pi}{2\\omega_0^2\\Gamma_0} $$\n"
   ]
  },
  {
   "cell_type": "markdown",
   "metadata": {},
   "source": [
    "Assuming that the system is in thermal equilibrium and the equipartition theorem applies to this system.\n",
    "\n",
    "From the equipartition theorem $$ \\dfrac{1}{2}k_BT_{c.m.} = \\dfrac{1}{2}m\\omega_0^2 \\langle x^2 \\rangle $$ we get:\n",
    "\n",
    "$$ \\dfrac{1}{2}k_BT_{c.m.} = \\dfrac{1}{2}m\\omega_0^2 \\dfrac{\\tilde{f}}{4m^2} \\dfrac{\\pi}{\\omega_0^2\\Gamma_0} = \\dfrac{1}{2} \\dfrac{\\tilde{f}}{4m} \\dfrac{\\pi}{\\Gamma_0} $$"
   ]
  },
  {
   "cell_type": "markdown",
   "metadata": {},
   "source": [
    "$$ \\tilde{f} = \\dfrac{4m k_B T_{c.m.} \\Gamma_0}{\\pi} $$"
   ]
  },
  {
   "cell_type": "markdown",
   "metadata": {},
   "source": [
    "# Final form of the PSD"
   ]
  },
  {
   "cell_type": "markdown",
   "metadata": {},
   "source": [
    "$$ S_{xx}(\\omega) = \\dfrac{2 k_B T_{c.m.}}{\\pi m} \\dfrac{\\Gamma_0}{(\\omega_0^2-\\omega^2)^2 + (\\Gamma_0\\omega)^2} $$"
   ]
  },
  {
   "cell_type": "code",
   "execution_count": null,
   "metadata": {
    "collapsed": true
   },
   "outputs": [],
   "source": []
  }
 ],
 "metadata": {
  "kernelspec": {
   "display_name": "Python 3",
   "language": "python",
   "name": "python3"
  },
  "language_info": {
   "codemirror_mode": {
    "name": "ipython",
    "version": 3
   },
   "file_extension": ".py",
   "mimetype": "text/x-python",
   "name": "python",
   "nbconvert_exporter": "python",
   "pygments_lexer": "ipython3",
   "version": "3.6.0"
  }
 },
 "nbformat": 4,
 "nbformat_minor": 0
}
