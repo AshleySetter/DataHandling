{
 "cells": [
  {
   "cell_type": "code",
   "execution_count": 1,
   "metadata": {
    "collapsed": false
   },
   "outputs": [
    {
     "name": "stderr",
     "output_type": "stream",
     "text": [
      "/home/ash/anaconda2/envs/python3/lib/python3.5/site-packages/IPython/extensions/sympyprinting.py:31: UserWarning: The sympyprinting extension has moved to `sympy`, use `from sympy import init_printing; init_printing()`\n",
      "  warnings.warn(\"The sympyprinting extension has moved to `sympy`, \"\n"
     ]
    }
   ],
   "source": [
    "%load_ext sympyprinting\n",
    "%matplotlib inline\n",
    "import matplotlib.pyplot as plt\n",
    "import sympy\n",
    "from IPython.display import display\n",
    "sympy.init_printing(use_unicode=False, wrap_line=False, no_global=True)\n",
    "import scipy.constants\n",
    "import numpy as np"
   ]
  },
  {
   "cell_type": "markdown",
   "metadata": {},
   "source": [
    "# Equation of motion - SDE to be solved"
   ]
  },
  {
   "cell_type": "markdown",
   "metadata": {},
   "source": [
    "### $\\ddot{q}(t) + \\Gamma_0\\dot{q}(t) + \\Omega_0^2 q(t) -  \\dfrac{1}{m} F(t) = 0 $\n",
    "\n",
    "#### where q = x, y or z\n",
    "\n",
    "Where $F(t) = \\mathcal{F}_{fluct}(t) + F_{feedback}(t)$\n",
    "\n",
    "Taken from page 46 of 'Dynamics of optically levitated nanoparticles in high vacuum' - Thesis by Jan Gieseler "
   ]
  },
  {
   "cell_type": "markdown",
   "metadata": {},
   "source": [
    "Using $\\mathcal{F}_{fluct}(t) = \\sqrt{2m \\Gamma_0 k_B T_0}\\dfrac{dW(t)}{dt}$\n",
    "\n",
    "and $F_{feedback}(t) = \\Omega_0 \\eta q^2 \\dot{q}$\n",
    "\n",
    "Taken from page 49 of 'Dynamics of optically levitated nanoparticles in high vacuum' - Thesis by Jan Gieseler \n",
    "\n",
    "we get the following SDE:"
   ]
  },
  {
   "cell_type": "markdown",
   "metadata": {},
   "source": [
    "$\\dfrac{d^2q(t)}{dt^2} + (\\Gamma_0 - \\Omega_0 \\eta q(t)^2)\\dfrac{dq(t)}{dt} + \\Omega_0^2 q(t) - \\sqrt{\\dfrac{2\\Gamma_0 k_B T_0}{m}} \\dfrac{dW(t)}{dt} = 0$"
   ]
  },
  {
   "cell_type": "markdown",
   "metadata": {},
   "source": [
    "split into 2 first order ODE/SDE s"
   ]
  },
  {
   "cell_type": "markdown",
   "metadata": {},
   "source": [
    "letting $v = \\dfrac{dq}{dt}$\n",
    "\n",
    "$\\dfrac{dv(t)}{dt} + (\\Gamma_0 - \\Omega_0 \\eta q(t)^2)v + \\Omega_0^2 q(t) - \\sqrt{\\dfrac{2\\Gamma_0 k_B T_0}{m}} \\dfrac{dW(t)}{dt} = 0$\n",
    "\n",
    "therefore\n",
    "\n",
    "$\\dfrac{dv(t)}{dt} = -(\\Gamma_0 - \\Omega_0 \\eta q(t)^2)v - \\Omega_0^2 q(t) + \\sqrt{\\dfrac{2\\Gamma_0 k_B T_0}{m}} \\dfrac{dW(t)}{dt} $\n",
    "\n",
    "$v = \\dfrac{dq}{dt}$ therefore $dq = v~dt$"
   ]
  },
  {
   "cell_type": "markdown",
   "metadata": {},
   "source": [
    "\\begin{align}\n",
    "dq&=v\\,dt\\\\\n",
    "dv&=[-(\\Gamma_0-\\Omega_0 \\eta q(t)^2)v(t) - \\Omega_0^2 v(t)]\\,dt + \\sqrt{\\frac{2\\Gamma_0 k_B T_0}m}\\,dW\n",
    "\\end{align}\n"
   ]
  },
  {
   "cell_type": "markdown",
   "metadata": {},
   "source": [
    "### Apply Milstein Method to solve"
   ]
  },
  {
   "cell_type": "markdown",
   "metadata": {},
   "source": [
    "Consider the autonomous Itō stochastic differential equation\n",
    "\n",
    "${\\mathrm  {d}}X_{t}=a(X_{t})\\,{\\mathrm  {d}}t+b(X_{t})\\,{\\mathrm  {d}}W_{t}$"
   ]
  },
  {
   "cell_type": "markdown",
   "metadata": {},
   "source": [
    "Taking $X_t = q_t$ for the 1st equation above (i.e. $dq = v~dt$) we get:\n",
    "\n",
    "$$ a(q_t) = v $$\n",
    "$$ b(q_t) = 0 $$"
   ]
  },
  {
   "cell_type": "markdown",
   "metadata": {},
   "source": [
    "Taking $X_t = v_t$ for the 2nd equation above (i.e. $dv = ...$) we get:\n",
    "\n",
    "$$a(v_t) = -(\\Gamma_0-\\Omega_0\\eta q(t)^2)v - \\Omega_0^2 q(t)$$ \n",
    "$$b(v_t) = \\sqrt{\\dfrac{2\\Gamma_0 k_B T_0}m}$$"
   ]
  },
  {
   "cell_type": "markdown",
   "metadata": {},
   "source": [
    "${\\displaystyle b'(v_{t})=0}$ therefore the diffusion term does not depend on ${\\displaystyle v_{t}}$ , the Milstein's method in this case is therefore equivalent to the Euler–Maruyama method."
   ]
  },
  {
   "cell_type": "markdown",
   "metadata": {},
   "source": [
    "We then construct these functions in python:"
   ]
  },
  {
   "cell_type": "code",
   "execution_count": 2,
   "metadata": {
    "collapsed": true
   },
   "outputs": [],
   "source": [
    "def a_q(t, v, q):\n",
    "    return v\n",
    "\n",
    "def a_v(t, v, q):\n",
    "    return -(Gamma0 - Omega0*eta*q**2)*v - Omega0**2*q\n",
    "\n",
    "def b_v(t, v, q):\n",
    "    return np.sqrt(2*Gamma0*k_b*T_0/m)\n"
   ]
  },
  {
   "cell_type": "markdown",
   "metadata": {},
   "source": [
    "Using values obtained from fitting to data from a real particle we set the following constant values describing the system. Cooling has been assumed to be off by setting $\\eta = 0$."
   ]
  },
  {
   "cell_type": "code",
   "execution_count": 3,
   "metadata": {
    "collapsed": false
   },
   "outputs": [],
   "source": [
    "Gamma0 = 4000 # radians/second\n",
    "Omega0 = 75e3*2*np.pi # radians/second\n",
    "eta = 0.0\n",
    "T_0 = 300 # K\n",
    "k_b = scipy.constants.Boltzmann # J/K\n",
    "m = 3.1e-19 # KG"
   ]
  },
  {
   "cell_type": "markdown",
   "metadata": {},
   "source": [
    "partition the interval [0, T] into N equal subintervals of width $\\Delta t>0$:\n",
    "$ 0=\\tau _{0}<\\tau _{1}<\\dots <\\tau _{N}=T{\\text{ with }}\\tau _{n}:=n\\Delta t{\\text{ and }}\\Delta t={\\frac {T}{N}}$\n"
   ]
  },
  {
   "cell_type": "code",
   "execution_count": 56,
   "metadata": {
    "collapsed": false
   },
   "outputs": [],
   "source": [
    "dt = 1e-9\n",
    "tArray = np.arange(0, 100e-6, dt)"
   ]
  },
  {
   "cell_type": "code",
   "execution_count": 44,
   "metadata": {
    "collapsed": false
   },
   "outputs": [
    {
     "name": "stdout",
     "output_type": "stream",
     "text": [
      "100000000.0 Hz\n"
     ]
    }
   ],
   "source": [
    "print(\"{} Hz\".format(1/dt))"
   ]
  },
  {
   "cell_type": "markdown",
   "metadata": {},
   "source": [
    "set $Y_{0}=x_{0}$"
   ]
  },
  {
   "cell_type": "code",
   "execution_count": 45,
   "metadata": {
    "collapsed": false
   },
   "outputs": [],
   "source": [
    "q0 = 0\n",
    "v0 = 0\n",
    "q = np.zeros_like(tArray)\n",
    "v = np.zeros_like(tArray)\n",
    "q[0] = q0\n",
    "v[0] = v0"
   ]
  },
  {
   "cell_type": "markdown",
   "metadata": {},
   "source": [
    "Generate independent and identically distributed normal random variables with expected value 0 and variance dt"
   ]
  },
  {
   "cell_type": "code",
   "execution_count": 46,
   "metadata": {
    "collapsed": false
   },
   "outputs": [],
   "source": [
    "np.random.seed(88)\n",
    "\n",
    "dwArray = np.random.normal(0, np.sqrt(dt), len(tArray)) # independent and identically distributed normal random variables with expected value 0 and variance dt"
   ]
  },
  {
   "cell_type": "markdown",
   "metadata": {},
   "source": [
    "Apply Milstein's method (Euler Maruyama if $b'(Y_{n}) = 0$ as is the case here):\n",
    "\n",
    "recursively define $Y_{n}$ for $ 1\\leq n\\leq N $ by\n",
    "\n",
    "$ Y_{{n+1}}=Y_{n}+a(Y_{n})\\Delta t+b(Y_{n})\\Delta W_{n}+{\\frac  {1}{2}}b(Y_{n})b'(Y_{n})\\left((\\Delta W_{n})^{2}-\\Delta t\\right)$\n",
    "\n",
    "Perform this for the 2 first order differential equations:"
   ]
  },
  {
   "cell_type": "code",
   "execution_count": 47,
   "metadata": {
    "collapsed": false
   },
   "outputs": [
    {
     "name": "stdout",
     "output_type": "stream",
     "text": [
      "10 loops, best of 3: 33.9 ms per loop\n"
     ]
    }
   ],
   "source": [
    "%%timeit\n",
    "\n",
    "for n, t in enumerate(tArray[:-1]):\n",
    "    dw = dwArray[n]\n",
    "    v[n+1] = v[n] + a_v(t, v[n], q[n])*dt + b_v(t, v[n], q[n])*dw + 0\n",
    "    q[n+1] = q[n] + a_q(t, v[n], q[n])*dt + 0\n"
   ]
  },
  {
   "cell_type": "markdown",
   "metadata": {},
   "source": [
    "We now have an array of positions, $v$, and velocities $p$ with time $t$."
   ]
  },
  {
   "cell_type": "code",
   "execution_count": 48,
   "metadata": {
    "collapsed": false,
    "scrolled": true
   },
   "outputs": [
    {
     "data": {
      "text/plain": [
       "<matplotlib.text.Text at 0x7fe1908eb518>"
      ]
     },
     "execution_count": 48,
     "metadata": {},
     "output_type": "execute_result"
    },
    {
     "data": {
      "image/png": "[encoded data removed]",
      "text/plain": [
       "<matplotlib.figure.Figure at 0x7fe190975b38>"
      ]
     },
     "metadata": {},
     "output_type": "display_data"
    }
   ],
   "source": [
    "plt.plot(tArray*1e6, v)\n",
    "plt.xlabel(\"t (us)\")\n",
    "plt.ylabel(\"v\")"
   ]
  },
  {
   "cell_type": "code",
   "execution_count": 49,
   "metadata": {
    "collapsed": false
   },
   "outputs": [
    {
     "data": {
      "text/plain": [
       "<matplotlib.text.Text at 0x7fe190a156a0>"
      ]
     },
     "execution_count": 49,
     "metadata": {},
     "output_type": "execute_result"
    },
    {
     "data": {
      "image/png": "[encoded data removed]",
      "text/plain": [
       "<matplotlib.figure.Figure at 0x7fe1908fd048>"
      ]
     },
     "metadata": {},
     "output_type": "display_data"
    }
   ],
   "source": [
    "plt.plot(tArray*1e6, q)\n",
    "plt.xlabel(\"t (us)\")\n",
    "plt.ylabel(\"q\")"
   ]
  },
  {
   "cell_type": "markdown",
   "metadata": {},
   "source": [
    "Alternatively we can use a derivative-free version of Milsteins method as a two-stage kind-of Runge-Kutta method, documented in wikipedia (https://en.wikipedia.org/wiki/Runge%E2%80%93Kutta_method_%28SDE%29) or the original in arxiv.org https://arxiv.org/pdf/1210.0933.pdf."
   ]
  },
  {
   "cell_type": "code",
   "execution_count": 50,
   "metadata": {
    "collapsed": true
   },
   "outputs": [],
   "source": [
    "q0 = 0\n",
    "v0 = 0\n",
    "X = np.zeros([len(tArray), 2])\n",
    "X[0, 0] = q0\n",
    "X[0, 1] = v0"
   ]
  },
  {
   "cell_type": "code",
   "execution_count": 51,
   "metadata": {
    "collapsed": true
   },
   "outputs": [],
   "source": [
    "def a(t, X):\n",
    "    q, v = X\n",
    "    return np.array([v, -(Gamma0 - Omega0*eta*q**2)*v - Omega0**2*q])\n",
    "\n",
    "def b(t, X):\n",
    "    q, v = X\n",
    "    return np.array([0, np.sqrt(2*Gamma0*k_b*T_0/m)])"
   ]
  },
  {
   "cell_type": "code",
   "execution_count": 52,
   "metadata": {
    "collapsed": false
   },
   "outputs": [
    {
     "name": "stdout",
     "output_type": "stream",
     "text": [
      "1 loop, best of 3: 228 ms per loop\n"
     ]
    }
   ],
   "source": [
    "%%timeit\n",
    "\n",
    "S = np.array([-1,1])\n",
    "for n, t in enumerate(tArray[:-1]):\n",
    "    dw = dwArray[n]\n",
    "    K1 = a(t, X[n])*dt + b(t, X[n])*(dw - S*np.sqrt(dt))\n",
    "    Xh = X[n] + K1\n",
    "    K2 = a(t, Xh)*dt + b(t, Xh)*(dw + S*np.sqrt(dt))\n",
    "    X[n+1] = X[n] + 0.5 * (K1+K2)\n"
   ]
  },
  {
   "cell_type": "code",
   "execution_count": 53,
   "metadata": {
    "collapsed": true
   },
   "outputs": [],
   "source": [
    "q = X[:, 0]\n",
    "v = X[:, 1]"
   ]
  },
  {
   "cell_type": "code",
   "execution_count": 54,
   "metadata": {
    "collapsed": false
   },
   "outputs": [
    {
     "data": {
      "text/plain": [
       "<matplotlib.text.Text at 0x7fe19082b048>"
      ]
     },
     "execution_count": 54,
     "metadata": {},
     "output_type": "execute_result"
    },
    {
     "data": {
      "image/png": "[encoded data removed]",
      "text/plain": [
       "<matplotlib.figure.Figure at 0x7fe19082b7f0>"
      ]
     },
     "metadata": {},
     "output_type": "display_data"
    }
   ],
   "source": [
    "plt.plot(tArray*1e6, v)\n",
    "plt.xlabel(\"t (us)\")\n",
    "plt.ylabel(\"v\")"
   ]
  },
  {
   "cell_type": "code",
   "execution_count": 55,
   "metadata": {
    "collapsed": false
   },
   "outputs": [
    {
     "data": {
      "text/plain": [
       "<matplotlib.text.Text at 0x7fe1908c6668>"
      ]
     },
     "execution_count": 55,
     "metadata": {},
     "output_type": "execute_result"
    },
    {
     "data": {
      "image/png": "[encoded data removed]",
      "text/plain": [
       "<matplotlib.figure.Figure at 0x7fe1908d7668>"
      ]
     },
     "metadata": {},
     "output_type": "display_data"
    }
   ],
   "source": [
    "plt.plot(tArray*1e6, q)\n",
    "plt.xlabel(\"t (us)\")\n",
    "plt.ylabel(\"q\")"
   ]
  },
  {
   "cell_type": "code",
   "execution_count": null,
   "metadata": {
    "collapsed": true
   },
   "outputs": [],
   "source": []
  },
  {
   "cell_type": "code",
   "execution_count": null,
   "metadata": {
    "collapsed": true
   },
   "outputs": [],
   "source": []
  }
 ],
 "metadata": {
  "kernelspec": {
   "display_name": "Python 3",
   "language": "python",
   "name": "python3"
  },
  "language_info": {
   "codemirror_mode": {
    "name": "ipython",
    "version": 3
   },
   "file_extension": ".py",
   "mimetype": "text/x-python",
   "name": "python",
   "nbconvert_exporter": "python",
   "pygments_lexer": "ipython3",
   "version": "3.5.2"
  }
 },
 "nbformat": 4,
 "nbformat_minor": 2
}
