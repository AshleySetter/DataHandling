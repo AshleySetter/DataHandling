{
 "cells": [
  {
   "cell_type": "code",
   "execution_count": 1,
   "metadata": {
    "collapsed": true
   },
   "outputs": [],
   "source": [
    "%matplotlib inline\n",
    "from scipy.optimize import minimize\n",
    "import numpy as np\n",
    "import matplotlib.pyplot as plt\n",
    "from scipy.constants import pi, Boltzmann"
   ]
  },
  {
   "cell_type": "markdown",
   "metadata": {},
   "source": [
    "$$ \\Gamma_0 = \\dfrac{6 \\pi \\eta_{air} r}{m} \\dfrac{0.619}{0.619 + K_n} (1+ c_k)$$ \n",
    "*(Li et al. 2011 - https://arxiv.org/pdf/1101.1283.pdf)*"
   ]
  },
  {
   "cell_type": "markdown",
   "metadata": {},
   "source": [
    "Where:\n",
    "\n",
    "- $\\eta_{air}$ is the viscosity of air\n",
    "- $r$ is the radius of the silica nanoparticles\n",
    "- $m$ is the mass of the silica nanoparticles\n",
    "- $K_n$ is the Knudsen number $\\dfrac{s}{r}$ where $s$ is the mean free path of the air particles\n",
    "- $c_k$ is a small positive function of $K_n$ which takes the form $(0.31K_n)/(0.785+1.152K_n+K_n^2)$"
   ]
  },
  {
   "cell_type": "markdown",
   "metadata": {},
   "source": [
    "The mean free path is dependant upon the pressure of the system. The mathematical\n",
    "form the mean free path, is dependant upon whether the particles under study are con- sidered to be hard like spheres colliding or as “soft” spheres following Lennard-Jones Potential. In this case assuming the gas particles to be hard spheres yields the following form, \n",
    "\n",
    "$$s = \\dfrac{k_B T_0}{ \\sqrt{2} \\pi d_{gas}^2 P_{gas}} $$\n",
    "\n",
    "*(Muddassar - Thesis - Cooling and Squeezing in Levitated Optomechanics 2016)*\n",
    "\n",
    "Where $d_{gas}$ is the diameter of the gas particles, $T_0$ is the temperature and $P_{gas}$ is the pressure of the gas in pascals."
   ]
  },
  {
   "cell_type": "markdown",
   "metadata": {},
   "source": [
    "Where:\n",
    "\n",
    "- $d_{gas}$ is the diameter |of the gas particles\n",
    "- $T_0$ is the temperature of the gas\n",
    "- $P_{gas}$ is the pressure of the gas"
   ]
  },
  {
   "cell_type": "code",
   "execution_count": 179,
   "metadata": {
    "collapsed": true
   },
   "outputs": [],
   "source": [
    "# constants\n",
    "k_B = Boltzmann\n",
    "eta_air = 18.27e-6 # Pa # (J.T.R.Watson (1995)).\n",
    "d_gas = 0.372e-9 #m #(Sone (2007)), ρSiO2\n",
    "rho_SiO2 = 1800 # #kg/m^3 - Number told to us by \n",
    "\n",
    "T0 = 300\n",
    "\n",
    "R = 50e-9 # m"
   ]
  },
  {
   "cell_type": "markdown",
   "metadata": {},
   "source": [
    "$$s = \\dfrac{k_B T_0}{ \\sqrt{2} \\pi d_{gas}^2 P_{gas}} $$\n",
    "\n",
    "*(Muddassar - Thesis - Cooling and Squeezing in Levitated Optomechanics 2016)*"
   ]
  },
  {
   "cell_type": "code",
   "execution_count": 180,
   "metadata": {
    "collapsed": true
   },
   "outputs": [],
   "source": [
    "def mfp(P_gas):\n",
    "    mfp_val = k_B*T0/(2**0.5*pi*d_gas**2*P_gas)\n",
    "    return mfp_val"
   ]
  },
  {
   "cell_type": "markdown",
   "metadata": {},
   "source": [
    "Alternativity one can use:\n",
    "\n",
    "$$ s = \\dfrac{\\eta_{air}}{P_{gas}} \\sqrt{\\dfrac{\\pi k_B T_0}{2m}} $$\n",
    "\n",
    "*https://en.wikipedia.org/wiki/Mean_free_path*\n",
    "\n",
    "Where\n",
    "- $\\eta_{air}$ is the viscosity of air\n",
    "- $m$ is the molecualar mass of air\n",
    "- $T_0$ is the temperature of the gas\n",
    "- $P_{gas}$ is the pressure of the gas"
   ]
  },
  {
   "cell_type": "markdown",
   "metadata": {},
   "source": [
    "molecular mass of air is $28.97 g/mol$ and the number of molecules in a mole is Avogadro's Number $6.0221409e^{23}$ therefore we get the molecular mass of air to be $4.81e^{-26} Kg$"
   ]
  },
  {
   "cell_type": "code",
   "execution_count": 181,
   "metadata": {
    "collapsed": true
   },
   "outputs": [],
   "source": [
    "m_gas = 4.81e-26"
   ]
  },
  {
   "cell_type": "code",
   "execution_count": 182,
   "metadata": {
    "collapsed": false
   },
   "outputs": [],
   "source": [
    "def mfp_2(P_gas): \n",
    "    mfp_val = eta_air/P_gas * (pi*k_B*T0/(2*m_gas))**0.5\n",
    "    return mfp_val"
   ]
  },
  {
   "cell_type": "code",
   "execution_count": 183,
   "metadata": {
    "collapsed": false
   },
   "outputs": [
    {
     "name": "stdout",
     "output_type": "stream",
     "text": [
      "2.2455999057589032e-05\n"
     ]
    }
   ],
   "source": [
    "s = mfp(300) # 3mbar = 300 Pascals\n",
    "print(s)"
   ]
  },
  {
   "cell_type": "code",
   "execution_count": 184,
   "metadata": {
    "collapsed": false
   },
   "outputs": [
    {
     "name": "stdout",
     "output_type": "stream",
     "text": [
      "2.2397878589354806e-05\n"
     ]
    }
   ],
   "source": [
    "s2 = mfp_2(300) # 3mbar = 300 Pascals\n",
    "print(s2)"
   ]
  },
  {
   "cell_type": "code",
   "execution_count": 185,
   "metadata": {
    "collapsed": true
   },
   "outputs": [],
   "source": [
    "def Gamma_env(radius, Pressure_mbar):\n",
    "    mass = rho_SiO2 * 4/3*pi*radius**3\n",
    "    Pressure_pascals = 100*Pressure_mbar\n",
    "    s = mfp(Pressure_pascals)\n",
    "    K_n = s/radius\n",
    "    c_K = 0.31*K_n/(0.785 + 1.152*K_n + K_n**2)\n",
    "    Gamma_0 = 6*pi*eta_air*radius/mass * 0.619/(0.619 + K_n) * (1+c_K)\n",
    "    return Gamma_0"
   ]
  },
  {
   "cell_type": "code",
   "execution_count": 186,
   "metadata": {
    "collapsed": false
   },
   "outputs": [
    {
     "data": {
      "text/plain": [
       "25163.29798430737"
      ]
     },
     "execution_count": 186,
     "metadata": {},
     "output_type": "execute_result"
    }
   ],
   "source": [
    "Gamma_env(R, 3)"
   ]
  },
  {
   "cell_type": "markdown",
   "metadata": {},
   "source": [
    "Muddassar and Gieseler's simplified formula for the environmental damping is:\n",
    "\n",
    "$$ \\Gamma_0 = 0.619 \\dfrac{9 \\pi}{\\sqrt{2}} \\dfrac{\\eta_{air}d_{gas}^2}{\\rho_{SiO_2} k_B T_0} \\dfrac{P_{gas}}{r}$$"
   ]
  },
  {
   "cell_type": "markdown",
   "metadata": {},
   "source": [
    "Where:\n",
    "\n",
    "- $\\eta_{air}$ is the viscosity of air\n",
    "- $d_{gas}$ is the diameter of the gas particles\n",
    "- $\\rho_{SiO_2}$ is the density of the silica nanoparticles\n",
    "- $r$ is the radius of the silica nanoparticles\n",
    "- $T_0$ is the temperature of the gas\n",
    "- $P_{gas}$ is the pressure of the gas"
   ]
  },
  {
   "cell_type": "code",
   "execution_count": 187,
   "metadata": {
    "collapsed": true
   },
   "outputs": [],
   "source": [
    "def Gamma_env_simple(radius, Pressure_mbar):\n",
    "    Pressure_pascals = 100*Pressure_mbar\n",
    "    #Gamma_0 = 0.619*9*pi*eta_air*d_gas**2*Pressure_pascals/(2**0.5*rho_SiO2*k_B*T0*radius)\n",
    "    Gamma_0 = 0.619*9*pi*eta_air*d_gas**2*Pressure_pascals/(2**0.5*rho_SiO2*k_B*T0*radius)\n",
    "    return Gamma_0"
   ]
  },
  {
   "cell_type": "code",
   "execution_count": 188,
   "metadata": {
    "collapsed": false
   },
   "outputs": [
    {
     "data": {
      "text/plain": [
       "25180.643201394465"
      ]
     },
     "execution_count": 188,
     "metadata": {},
     "output_type": "execute_result"
    }
   ],
   "source": [
    "Gamma_env_simple(R, 3)"
   ]
  },
  {
   "cell_type": "markdown",
   "metadata": {},
   "source": [
    "In Gieseler's Thermal Nonlinearities paper he has the following equation for $\\Gamma_0$\n",
    "\n",
    "$$ \\Gamma_0 = \\dfrac{64a^2}{3m\\bar{v}}P $$\n",
    "\n",
    "*https://www.nature.com/nphys/journal/v9/n12/full/nphys2798.html*\n",
    "\n",
    "**This appears to be incorrect as it is *exactly* double that which you get with Chang's formula and James Millen's formula**\n",
    "\n",
    "Where:\n",
    "- $a$ is the radius of the particle\n",
    "- $m$ is the mass of the particle \n",
    "- $\\bar{v}$ is the average verlocity of the gas particles\n",
    "\n",
    "Where we can use the following formula for $\\bar{v}$\n",
    "\n",
    "$$ \\bar{v} = \\sqrt{\\dfrac{8k_B T_0}{\\pi \\mu}} $$\n",
    "\n",
    "Where:\n",
    "- $T_0$ is the temperature of the gas\n",
    "- $\\mu$ is the mass of the air molecules"
   ]
  },
  {
   "cell_type": "code",
   "execution_count": 189,
   "metadata": {
    "collapsed": true
   },
   "outputs": [],
   "source": [
    "def Gamma_alternative(radius, Pressure_mbar):\n",
    "    Pressure = 100*Pressure_mbar\n",
    "    ave_velocity = (8*k_B*T0/(pi*m_gas))**0.5\n",
    "    mass= rho_SiO2*4/3*pi*radius**3\n",
    "    Gamma0 = 64*radius**2*Pressure/(3*mass*ave_velocity)\n",
    "    return Gamma0"
   ]
  },
  {
   "cell_type": "code",
   "execution_count": 190,
   "metadata": {
    "collapsed": false
   },
   "outputs": [
    {
     "data": {
      "text/plain": [
       "36253.43341158769"
      ]
     },
     "execution_count": 190,
     "metadata": {},
     "output_type": "execute_result"
    }
   ],
   "source": [
    "Gamma_alternative(R, 3) "
   ]
  },
  {
   "cell_type": "markdown",
   "metadata": {},
   "source": [
    "In Chang et al. paper \"Cavity opto-mechanics using an optically levitated nanosphere\"\n",
    "\n",
    "They have $\\Gamma_0 = \\dfrac{\\gamma_g}{2} = \\dfrac{8}{\\pi}\\dfrac{P}{\\bar{v}r\\rho}$\n",
    "\n",
    "** Unclear from paper if $\\dfrac{\\gamma_g}{2}$ or $\\gamma_g$ is supposed to be the damping**\n",
    "\n",
    "Where \n",
    "- $\\rho$ is the density of the nanoparticle\n",
    "- $P$ is the pressure of the gas\n",
    "- $\\bar{v}$ is the mean speed of the gas particles\n",
    "- $r$ is the radius of the nanoparticle"
   ]
  },
  {
   "cell_type": "code",
   "execution_count": 191,
   "metadata": {
    "collapsed": true
   },
   "outputs": [],
   "source": [
    "ave_velocity = (8*k_B*T0/(pi*m_gas))**0.5"
   ]
  },
  {
   "cell_type": "code",
   "execution_count": 192,
   "metadata": {
    "collapsed": false
   },
   "outputs": [
    {
     "data": {
      "text/plain": [
       "468.2736410204197"
      ]
     },
     "execution_count": 192,
     "metadata": {},
     "output_type": "execute_result"
    }
   ],
   "source": [
    "ave_velocity"
   ]
  },
  {
   "cell_type": "code",
   "execution_count": 193,
   "metadata": {
    "collapsed": true
   },
   "outputs": [],
   "source": [
    "def Gamma_chang(radius, Pressure_mbar):\n",
    "    Pressure = 100*Pressure_mbar\n",
    "    ave_velocity = (8*k_B*T0/(pi*m_gas))**0.5\n",
    "    Gamma0 = 8*Pressure/(pi*ave_velocity*radius*rho_SiO2)/2\n",
    "    return 2*Gamma0"
   ]
  },
  {
   "cell_type": "code",
   "execution_count": 194,
   "metadata": {
    "collapsed": false
   },
   "outputs": [
    {
     "data": {
      "text/plain": [
       "18126.71670579385"
      ]
     },
     "execution_count": 194,
     "metadata": {},
     "output_type": "execute_result"
    }
   ],
   "source": [
    "Gamma_chang(R, 3)"
   ]
  },
  {
   "cell_type": "markdown",
   "metadata": {},
   "source": [
    "James Millen derives the following form of the damping due to impinging particles:\n",
    "\n",
    "$$ \\Gamma^{imp} = \\dfrac{4\\pi}{3}\\dfrac{mNr^2 \\bar{v}_{T_{imp}}}{M} $$\n",
    "\n",
    "*https://arxiv.org/abs/1309.3990* - \n",
    "*https://journals.aps.org/prl/abstract/10.1103/PhysRevLett.114.123602*\n",
    "\n",
    "**However in their earlier paper *http://iopscience.iop.org/article/10.1088/1367-2630/15/1/015001/meta* they get double this, which is what Gieseler gets in his thermal non-linearities paper.**\n",
    "\n",
    "Where:\n",
    "- $m$ is the molecular mass of the gas\n",
    "- $N$ is the particle density of the gas\n",
    "- $r$ is the radius of the nanoparticle\n",
    "- $M$ is the mass of the nanoparticle\n",
    "- $\\bar{v}_{T_{imp}}$ is the mean thermal velocity $\\sqrt{\\dfrac{8 k_B T^{imp}}{\\pi m}}$"
   ]
  },
  {
   "cell_type": "markdown",
   "metadata": {},
   "source": [
    "Using the ideal gas equation $P = R\\rho T$ and $N= \\dfrac{\\rho}{m}$ with $R=\\dfrac{k_B}{m}$ we get $N = \\dfrac{P}{k_BT}$"
   ]
  },
  {
   "cell_type": "code",
   "execution_count": 195,
   "metadata": {
    "collapsed": true
   },
   "outputs": [],
   "source": [
    "def Gamma_Millen_imp(radius, Pressure_mbar):\n",
    "    Pressure = 100*Pressure_mbar\n",
    "    ave_velocity = (8*k_B*T0/(pi*m_gas))**0.5\n",
    "    mass = rho_SiO2*4/3*pi*radius**3\n",
    "    N = Pressure/(k_B*T0)\n",
    "    Gamma0 = 4*pi*m_gas*N*radius**2*ave_velocity/(3*mass)\n",
    "    return Gamma0"
   ]
  },
  {
   "cell_type": "code",
   "execution_count": 196,
   "metadata": {
    "collapsed": false
   },
   "outputs": [
    {
     "data": {
      "text/plain": [
       "18126.716705793842"
      ]
     },
     "execution_count": 196,
     "metadata": {},
     "output_type": "execute_result"
    }
   ],
   "source": [
    "Gamma_Millen_imp(R, 3)"
   ]
  },
  {
   "cell_type": "markdown",
   "metadata": {},
   "source": [
    "Agree's exactly with Chang's result"
   ]
  },
  {
   "cell_type": "code",
   "execution_count": 197,
   "metadata": {
    "collapsed": false,
    "scrolled": true
   },
   "outputs": [
    {
     "data": {
      "text/plain": [
       "18126.71670579385"
      ]
     },
     "execution_count": 197,
     "metadata": {},
     "output_type": "execute_result"
    }
   ],
   "source": [
    "Gamma_chang(R, 3)"
   ]
  },
  {
   "cell_type": "markdown",
   "metadata": {},
   "source": [
    "James Millen derives the following form of the damping due to emerging particles:\n",
    "\n",
    "$\\Gamma^{em} = \\dfrac{mNr^2\\pi^{\\frac{3}{2}}}{3\\sqrt{h'}M}$\n",
    "\n",
    "*https://arxiv.org/abs/1309.3990* - \n",
    "*https://journals.aps.org/prl/abstract/10.1103/PhysRevLett.114.123602*\n",
    "\n",
    "Where:\n",
    "- $m$ is the molecular mass of the gas\n",
    "- $N$ is the particle density of the gas\n",
    "- $r$ is the radius of the nanoparticle\n",
    "- $h'$ is $\\dfrac{m}{2k_B T_0}$ where $T_0$ is the temperature of the gas\n",
    "- $M$ is the mass of the nanoparticle"
   ]
  },
  {
   "cell_type": "markdown",
   "metadata": {},
   "source": [
    "Using the ideal gas equation $P = R\\rho T$ and $N= \\dfrac{\\rho}{m}$ with $R=\\dfrac{k_B}{m}$ we get $N = \\dfrac{P}{k_BT}$"
   ]
  },
  {
   "cell_type": "markdown",
   "metadata": {},
   "source": [
    "He also says that this leads to $\\Gamma^{em} = \\dfrac{\\pi}{8}\\dfrac{T^{em}}{T^{imp}}$"
   ]
  },
  {
   "cell_type": "markdown",
   "metadata": {},
   "source": [
    "From this you get the total effective damping rate is \n",
    "$$ \\Gamma_0 = \\Gamma^{em} + \\Gamma^{imp} = \\dfrac{\\pi}{8}\\sqrt{\\dfrac{T^{em}}{T^{imp}}}\\Gamma^{imp} + \\Gamma^{imp} $$ "
   ]
  },
  {
   "cell_type": "code",
   "execution_count": 198,
   "metadata": {
    "collapsed": true
   },
   "outputs": [],
   "source": [
    "def Gamma_Millen_em(radius, Pressure_mbar, T_em):\n",
    "    Pressure = 100*Pressure_mbar\n",
    "    h_prime = m_gas/(k_B*T_em)\n",
    "    mass = rho_SiO2*4/3*pi*radius**3\n",
    "    N = Pressure/(k_B*T_em)\n",
    "    Gamma0 = (m_gas*N*radius**2*pi**(3/2))/(3*np.sqrt(h_prime)*mass)\n",
    "    return Gamma0"
   ]
  },
  {
   "cell_type": "code",
   "execution_count": 199,
   "metadata": {
    "collapsed": true
   },
   "outputs": [],
   "source": [
    "def calc_surface_temp_Millen(T_em, T_imp=300):\n",
    "    accomodation_coef = 0.777 # accomodation coefficient of silica (from Nanoscale temp measurement paper)\n",
    "    T_surf = T_imp + (T_em + T_imp)/accomodation_coef\n",
    "    return T_surf"
   ]
  },
  {
   "cell_type": "code",
   "execution_count": 200,
   "metadata": {
    "collapsed": false
   },
   "outputs": [],
   "source": [
    "P_exp = np.load(\"Pressure_mbar.npy\")\n",
    "Gamma_exp = np.load(\"Gamma_radians.npy\")"
   ]
  },
  {
   "cell_type": "code",
   "execution_count": 201,
   "metadata": {
    "collapsed": true
   },
   "outputs": [],
   "source": [
    "P_G_Dict = dict(zip(P_exp, Gamma_exp))"
   ]
  },
  {
   "cell_type": "code",
   "execution_count": 202,
   "metadata": {
    "collapsed": false
   },
   "outputs": [
    {
     "data": {
      "image/png": "[encoded data removed]",
      "text/plain": [
       "<matplotlib.figure.Figure at 0x11cc71048>"
      ]
     },
     "metadata": {},
     "output_type": "display_data"
    }
   ],
   "source": [
    "r = np.linspace(5e-9, 1000e-9, 1000)\n",
    "P = 3.6 # mbar\n",
    "alpha=0.5\n",
    "\n",
    "plt.figure(figsize=[10, 10])\n",
    "plt.loglog(r, Gamma_env_simple(r, P), 'k', label=\"Rashid/Gieseler Full form\", alpha=alpha)\n",
    "#plt.semilogy(r, Gamma_env_simple(r, P), 'grey', label=\"Rashid/Gieseler simplfied form\", alpha=alpha)\n",
    "plt.loglog(r, Gamma_alternative(r, P), label=\"Gieseler Thermal Non-linearities form\", alpha=alpha)\n",
    "plt.loglog(r, Gamma_chang(r, P), label=\"Chang form\", alpha=alpha)\n",
    "plt.loglog(r, Gamma_Millen_imp(r, P), label=\"Millen (imp) form\", alpha=alpha)\n",
    "plt.xlabel(\"radius (nm)\")\n",
    "plt.ylabel(\"Γ (radians/s)\")\n",
    "plt.legend(loc='best')\n",
    "plt.show()"
   ]
  },
  {
   "cell_type": "code",
   "execution_count": 203,
   "metadata": {
    "collapsed": false
   },
   "outputs": [
    {
     "data": {
      "image/png": "[encoded data removed]",
      "text/plain": [
       "<matplotlib.figure.Figure at 0x11ddc77f0>"
      ]
     },
     "metadata": {},
     "output_type": "display_data"
    }
   ],
   "source": [
    "r = 50e-9\n",
    "P = np.linspace(1e-2, 1000, 1000)\n",
    "\n",
    "plt.figure(figsize=[10, 10])\n",
    "plt.loglog(P, Gamma_env_simple(r, P), 'k', label=\"Rashid/Gieseler Full form\", alpha=alpha)\n",
    "#plt.loglog(P, Gamma_env_simple(r, P), 'grey', label=\"Rashid/Gieseler simplfied form\", alpha=alpha)\n",
    "plt.loglog(P, Gamma_alternative(r, P), label=\"Gieseler Thermal Non-linearities form\", alpha=alpha)\n",
    "plt.loglog(P, Gamma_chang(r, P), label=\"Chang form\", alpha=alpha)\n",
    "plt.loglog(P, Gamma_Millen_imp(r, P), label=\"Millen (imp) form\", alpha=alpha)\n",
    "plt.loglog(P_exp, Gamma_exp, label=\"Experiment\", alpha=alpha)\n",
    "plt.xlabel(\"P (mbar)\")\n",
    "plt.ylabel(\"Γ (radians/s)\")\n",
    "plt.legend(loc='best')\n",
    "plt.show()"
   ]
  },
  {
   "cell_type": "markdown",
   "metadata": {},
   "source": [
    "This doesn't match the graph in the cooling paper (*Controlling the Motion of a Nanoparticle Trapped in Vacuum - ArXiv:1603.02917*) and doesn't have any frequency dependance - we see different values for different freqs."
   ]
  },
  {
   "cell_type": "code",
   "execution_count": null,
   "metadata": {
    "collapsed": true
   },
   "outputs": [],
   "source": []
  }
 ],
 "metadata": {
  "kernelspec": {
   "display_name": "Python 3",
   "language": "python",
   "name": "python3"
  },
  "language_info": {
   "codemirror_mode": {
    "name": "ipython",
    "version": 3
   },
   "file_extension": ".py",
   "mimetype": "text/x-python",
   "name": "python",
   "nbconvert_exporter": "python",
   "pygments_lexer": "ipython3",
   "version": "3.6.0"
  }
 },
 "nbformat": 4,
 "nbformat_minor": 2
}
